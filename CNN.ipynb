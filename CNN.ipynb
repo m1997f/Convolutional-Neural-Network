{
 "cells": [
  {
   "cell_type": "markdown",
   "metadata": {
    "colab_type": "text",
    "id": "3DR-eO17geWu"
   },
   "source": [
    "# Convolutional Neural Network"
   ]
  },
  {
   "cell_type": "markdown",
   "metadata": {
    "colab_type": "text",
    "id": "EMefrVPCg-60"
   },
   "source": [
    "### Importing the libraries"
   ]
  },
  {
   "cell_type": "code",
   "execution_count": 1,
   "metadata": {
    "colab": {},
    "colab_type": "code",
    "id": "sCV30xyVhFbE"
   },
   "outputs": [],
   "source": [
    "import tensorflow as tf\n",
    "from keras.preprocessing.image import ImageDataGenerator"
   ]
  },
  {
   "cell_type": "code",
   "execution_count": 2,
   "metadata": {
    "colab": {},
    "colab_type": "code",
    "id": "FIleuCAjoFD8"
   },
   "outputs": [
    {
     "data": {
      "text/plain": [
       "'2.3.1'"
      ]
     },
     "execution_count": 2,
     "metadata": {},
     "output_type": "execute_result"
    }
   ],
   "source": [
    "tf.__version__"
   ]
  },
  {
   "cell_type": "markdown",
   "metadata": {
    "colab_type": "text",
    "id": "oxQxCBWyoGPE"
   },
   "source": [
    "## Part 1 - Data Preprocessing"
   ]
  },
  {
   "cell_type": "markdown",
   "metadata": {
    "colab_type": "text",
    "id": "MvE-heJNo3GG"
   },
   "source": [
    "### Preprocessing the Training set"
   ]
  },
  {
   "cell_type": "code",
   "execution_count": 3,
   "metadata": {
    "colab": {},
    "colab_type": "code",
    "id": "0koUcJMJpEBD"
   },
   "outputs": [
    {
     "name": "stdout",
     "output_type": "stream",
     "text": [
      "Found 8000 images belonging to 2 classes.\n"
     ]
    }
   ],
   "source": [
    "train_datagen = ImageDataGenerator(rescale = 1./255,\n",
    "                                   shear_range = 0.2,\n",
    "                                   zoom_range = 0.2,\n",
    "                                   horizontal_flip = True)\n",
    "training_set = train_datagen.flow_from_directory('dataset/training_set',\n",
    "                                                 target_size = (64, 64),\n",
    "                                                 batch_size = 32,\n",
    "                                                 class_mode = 'binary')"
   ]
  },
  {
   "cell_type": "markdown",
   "metadata": {
    "colab_type": "text",
    "id": "mrCMmGw9pHys"
   },
   "source": [
    "### Preprocessing the Test set"
   ]
  },
  {
   "cell_type": "code",
   "execution_count": 4,
   "metadata": {
    "colab": {},
    "colab_type": "code",
    "id": "SH4WzfOhpKc3"
   },
   "outputs": [
    {
     "name": "stdout",
     "output_type": "stream",
     "text": [
      "Found 2000 images belonging to 2 classes.\n"
     ]
    }
   ],
   "source": [
    "test_datagen = ImageDataGenerator(rescale = 1./255)\n",
    "test_set = test_datagen.flow_from_directory('dataset/test_set',\n",
    "                                            target_size = (64, 64),\n",
    "                                            batch_size = 32,\n",
    "                                            class_mode = 'binary')"
   ]
  },
  {
   "cell_type": "markdown",
   "metadata": {
    "colab_type": "text",
    "id": "af8O4l90gk7B"
   },
   "source": [
    "## Part 2 - Building the CNN"
   ]
  },
  {
   "cell_type": "markdown",
   "metadata": {
    "colab_type": "text",
    "id": "ces1gXY2lmoX"
   },
   "source": [
    "### Initialising the CNN"
   ]
  },
  {
   "cell_type": "code",
   "execution_count": 5,
   "metadata": {
    "colab": {},
    "colab_type": "code",
    "id": "SAUt4UMPlhLS"
   },
   "outputs": [],
   "source": [
    "cnn = tf.keras.models.Sequential()"
   ]
  },
  {
   "cell_type": "markdown",
   "metadata": {
    "colab_type": "text",
    "id": "u5YJj_XMl5LF"
   },
   "source": [
    "### Step 1 - Convolution"
   ]
  },
  {
   "cell_type": "code",
   "execution_count": 6,
   "metadata": {
    "colab": {},
    "colab_type": "code",
    "id": "XPzPrMckl-hV"
   },
   "outputs": [],
   "source": [
    "cnn.add(tf.keras.layers.Conv2D(filters=32, kernel_size=3, activation='relu', input_shape=[64, 64, 3]))"
   ]
  },
  {
   "cell_type": "markdown",
   "metadata": {
    "colab_type": "text",
    "id": "tf87FpvxmNOJ"
   },
   "source": [
    "### Step 2 - Pooling"
   ]
  },
  {
   "cell_type": "code",
   "execution_count": 7,
   "metadata": {
    "colab": {},
    "colab_type": "code",
    "id": "ncpqPl69mOac"
   },
   "outputs": [],
   "source": [
    "cnn.add(tf.keras.layers.MaxPool2D(pool_size=2, strides=2))"
   ]
  },
  {
   "cell_type": "markdown",
   "metadata": {
    "colab_type": "text",
    "id": "xaTOgD8rm4mU"
   },
   "source": [
    "### Adding a second convolutional layer"
   ]
  },
  {
   "cell_type": "code",
   "execution_count": 8,
   "metadata": {
    "colab": {},
    "colab_type": "code",
    "id": "i_-FZjn_m8gk"
   },
   "outputs": [],
   "source": [
    "cnn.add(tf.keras.layers.Conv2D(filters=32, kernel_size=3, activation='relu'))\n",
    "cnn.add(tf.keras.layers.MaxPool2D(pool_size=2, strides=2))"
   ]
  },
  {
   "cell_type": "markdown",
   "metadata": {
    "colab_type": "text",
    "id": "tmiEuvTunKfk"
   },
   "source": [
    "### Step 3 - Flattening"
   ]
  },
  {
   "cell_type": "code",
   "execution_count": 9,
   "metadata": {
    "colab": {},
    "colab_type": "code",
    "id": "6AZeOGCvnNZn"
   },
   "outputs": [],
   "source": [
    "cnn.add(tf.keras.layers.Flatten())"
   ]
  },
  {
   "cell_type": "markdown",
   "metadata": {
    "colab_type": "text",
    "id": "dAoSECOm203v"
   },
   "source": [
    "### Step 4 - Full Connection"
   ]
  },
  {
   "cell_type": "code",
   "execution_count": 10,
   "metadata": {
    "colab": {},
    "colab_type": "code",
    "id": "8GtmUlLd26Nq"
   },
   "outputs": [],
   "source": [
    "cnn.add(tf.keras.layers.Dense(units=128, activation='relu'))"
   ]
  },
  {
   "cell_type": "markdown",
   "metadata": {
    "colab_type": "text",
    "id": "yTldFvbX28Na"
   },
   "source": [
    "### Step 5 - Output Layer"
   ]
  },
  {
   "cell_type": "code",
   "execution_count": 11,
   "metadata": {
    "colab": {},
    "colab_type": "code",
    "id": "1p_Zj1Mc3Ko_"
   },
   "outputs": [],
   "source": [
    "cnn.add(tf.keras.layers.Dense(units=1, activation='sigmoid'))"
   ]
  },
  {
   "cell_type": "markdown",
   "metadata": {
    "colab_type": "text",
    "id": "D6XkI90snSDl"
   },
   "source": [
    "## Part 3 - Training the CNN"
   ]
  },
  {
   "cell_type": "markdown",
   "metadata": {
    "colab_type": "text",
    "id": "vfrFQACEnc6i"
   },
   "source": [
    "### Compiling the CNN"
   ]
  },
  {
   "cell_type": "code",
   "execution_count": 12,
   "metadata": {
    "colab": {},
    "colab_type": "code",
    "id": "NALksrNQpUlJ"
   },
   "outputs": [],
   "source": [
    "cnn.compile(optimizer = 'adam', loss = 'binary_crossentropy', metrics = ['accuracy'])"
   ]
  },
  {
   "cell_type": "markdown",
   "metadata": {
    "colab_type": "text",
    "id": "ehS-v3MIpX2h"
   },
   "source": [
    "### Training the CNN on the Training set and evaluating it on the Test set"
   ]
  },
  {
   "cell_type": "code",
   "execution_count": 13,
   "metadata": {
    "colab": {},
    "colab_type": "code",
    "id": "XUj1W4PJptta"
   },
   "outputs": [
    {
     "name": "stdout",
     "output_type": "stream",
     "text": [
      "Epoch 1/25\n",
      "250/250 [==============================] - 175s 699ms/step - loss: 0.6798 - accuracy: 0.5717 - val_loss: 0.6402 - val_accuracy: 0.6640\n",
      "Epoch 2/25\n",
      "250/250 [==============================] - 36s 142ms/step - loss: 0.6321 - accuracy: 0.6486 - val_loss: 0.6225 - val_accuracy: 0.6535\n",
      "Epoch 3/25\n",
      "250/250 [==============================] - 36s 144ms/step - loss: 0.5913 - accuracy: 0.6864 - val_loss: 0.5629 - val_accuracy: 0.7180\n",
      "Epoch 4/25\n",
      "250/250 [==============================] - 36s 142ms/step - loss: 0.5431 - accuracy: 0.7253 - val_loss: 0.5341 - val_accuracy: 0.7355\n",
      "Epoch 5/25\n",
      "250/250 [==============================] - 36s 145ms/step - loss: 0.5146 - accuracy: 0.7466 - val_loss: 0.5698 - val_accuracy: 0.7405\n",
      "Epoch 6/25\n",
      "250/250 [==============================] - 36s 144ms/step - loss: 0.4980 - accuracy: 0.7588 - val_loss: 0.5409 - val_accuracy: 0.7440\n",
      "Epoch 7/25\n",
      "250/250 [==============================] - 36s 143ms/step - loss: 0.4753 - accuracy: 0.7705 - val_loss: 0.4866 - val_accuracy: 0.7715\n",
      "Epoch 8/25\n",
      "250/250 [==============================] - 36s 143ms/step - loss: 0.4633 - accuracy: 0.7796 - val_loss: 0.4919 - val_accuracy: 0.7665\n",
      "Epoch 9/25\n",
      "250/250 [==============================] - 35s 142ms/step - loss: 0.4363 - accuracy: 0.7899 - val_loss: 0.5197 - val_accuracy: 0.7400\n",
      "Epoch 10/25\n",
      "250/250 [==============================] - 36s 143ms/step - loss: 0.4189 - accuracy: 0.8040 - val_loss: 0.4782 - val_accuracy: 0.7740\n",
      "Epoch 11/25\n",
      "250/250 [==============================] - 35s 142ms/step - loss: 0.4080 - accuracy: 0.8119 - val_loss: 0.4566 - val_accuracy: 0.8000\n",
      "Epoch 12/25\n",
      "250/250 [==============================] - 37s 149ms/step - loss: 0.3865 - accuracy: 0.8241 - val_loss: 0.5071 - val_accuracy: 0.7740\n",
      "Epoch 13/25\n",
      "250/250 [==============================] - 38s 152ms/step - loss: 0.3732 - accuracy: 0.8306 - val_loss: 0.4852 - val_accuracy: 0.7855\n",
      "Epoch 14/25\n",
      "250/250 [==============================] - 38s 151ms/step - loss: 0.3662 - accuracy: 0.8326 - val_loss: 0.4674 - val_accuracy: 0.7970\n",
      "Epoch 15/25\n",
      "250/250 [==============================] - 37s 147ms/step - loss: 0.3472 - accuracy: 0.8484 - val_loss: 0.4658 - val_accuracy: 0.7855\n",
      "Epoch 16/25\n",
      "250/250 [==============================] - 36s 145ms/step - loss: 0.3238 - accuracy: 0.8591 - val_loss: 0.4955 - val_accuracy: 0.7945\n",
      "Epoch 17/25\n",
      "250/250 [==============================] - 35s 142ms/step - loss: 0.3147 - accuracy: 0.8643 - val_loss: 0.4922 - val_accuracy: 0.7930\n",
      "Epoch 18/25\n",
      "250/250 [==============================] - 36s 144ms/step - loss: 0.2950 - accuracy: 0.8742 - val_loss: 0.4913 - val_accuracy: 0.8005\n",
      "Epoch 19/25\n",
      "250/250 [==============================] - 37s 148ms/step - loss: 0.2785 - accuracy: 0.8820 - val_loss: 0.5711 - val_accuracy: 0.7790\n",
      "Epoch 20/25\n",
      "250/250 [==============================] - 35s 142ms/step - loss: 0.2654 - accuracy: 0.8903 - val_loss: 0.5296 - val_accuracy: 0.7960\n",
      "Epoch 21/25\n",
      "250/250 [==============================] - 40s 162ms/step - loss: 0.2450 - accuracy: 0.8966 - val_loss: 0.5675 - val_accuracy: 0.7850\n",
      "Epoch 22/25\n",
      "250/250 [==============================] - 41s 165ms/step - loss: 0.2399 - accuracy: 0.9020 - val_loss: 0.5351 - val_accuracy: 0.7965\n",
      "Epoch 23/25\n",
      "250/250 [==============================] - 41s 164ms/step - loss: 0.2183 - accuracy: 0.9121 - val_loss: 0.5639 - val_accuracy: 0.7915\n",
      "Epoch 24/25\n",
      "250/250 [==============================] - 40s 159ms/step - loss: 0.2059 - accuracy: 0.9183 - val_loss: 0.6182 - val_accuracy: 0.7865\n",
      "Epoch 25/25\n",
      "250/250 [==============================] - 40s 159ms/step - loss: 0.1995 - accuracy: 0.9194 - val_loss: 0.6133 - val_accuracy: 0.7880\n"
     ]
    },
    {
     "data": {
      "text/plain": [
       "<tensorflow.python.keras.callbacks.History at 0x137d2cf1a00>"
      ]
     },
     "execution_count": 13,
     "metadata": {},
     "output_type": "execute_result"
    }
   ],
   "source": [
    "cnn.fit(x = training_set, validation_data = test_set, epochs = 25)"
   ]
  },
  {
   "cell_type": "markdown",
   "metadata": {
    "colab_type": "text",
    "id": "U3PZasO0006Z"
   },
   "source": [
    "## Part 4 - Making a single prediction"
   ]
  },
  {
   "cell_type": "code",
   "execution_count": 22,
   "metadata": {
    "colab": {},
    "colab_type": "code",
    "id": "gsSiWEJY1BPB"
   },
   "outputs": [
    {
     "name": "stdout",
     "output_type": "stream",
     "text": [
      "[[1.]]\n"
     ]
    }
   ],
   "source": [
    "import numpy as np\n",
    "from keras.preprocessing import image\n",
    "test_image = image.load_img('dataset/single_prediction/cat_or_dog.jpg', target_size = (64, 64))\n",
    "test_image = image.img_to_array(test_image)\n",
    "test_image = np.expand_dims(test_image, axis = 0)\n",
    "result = cnn.predict(test_image)\n",
    "print(result)\n",
    "training_set.class_indices\n",
    "if result[0][0] == 1:\n",
    "  prediction = 'dog'\n",
    "else:\n",
    "  prediction = 'cat'"
   ]
  },
  {
   "cell_type": "code",
   "execution_count": 15,
   "metadata": {
    "colab": {},
    "colab_type": "code",
    "id": "ED9KB3I54c1i"
   },
   "outputs": [
    {
     "name": "stdout",
     "output_type": "stream",
     "text": [
      "dog\n"
     ]
    }
   ],
   "source": [
    "print(prediction)"
   ]
  }
 ],
 "metadata": {
  "colab": {
   "collapsed_sections": [],
   "name": "convolutional_neural_network.ipynb",
   "provenance": [],
   "toc_visible": true
  },
  "kernelspec": {
   "display_name": "Python 3",
   "language": "python",
   "name": "python3"
  },
  "language_info": {
   "codemirror_mode": {
    "name": "ipython",
    "version": 3
   },
   "file_extension": ".py",
   "mimetype": "text/x-python",
   "name": "python",
   "nbconvert_exporter": "python",
   "pygments_lexer": "ipython3",
   "version": "3.8.5"
  }
 },
 "nbformat": 4,
 "nbformat_minor": 1
}
